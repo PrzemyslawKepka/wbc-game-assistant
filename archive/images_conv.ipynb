{
 "cells": [
  {
   "cell_type": "code",
   "execution_count": 15,
   "metadata": {},
   "outputs": [],
   "source": [
    "import os\n",
    "from PIL import Image\n",
    "\n",
    "dir = './src/unit_images'\n",
    "\n",
    "for file in os.listdir(dir):\n",
    "    if file.endswith('.webp'):\n",
    "        image = Image.open(os.path.join(dir, file)).convert('RGB')\n",
    "        new_name = file.split('.')[0]\n",
    "        image.save(os.path.join(dir, f'{new_name}.jpg'), \"jpeg\")\n",
    "        os.remove(os.path.join(dir,file))\n",
    "\n",
    "\n"
   ]
  }
 ],
 "metadata": {
  "kernelspec": {
   "display_name": "Python 3.10.5 64-bit",
   "language": "python",
   "name": "python3"
  },
  "language_info": {
   "codemirror_mode": {
    "name": "ipython",
    "version": 3
   },
   "file_extension": ".py",
   "mimetype": "text/x-python",
   "name": "python",
   "nbconvert_exporter": "python",
   "pygments_lexer": "ipython3",
   "version": "3.10.5"
  },
  "orig_nbformat": 4,
  "vscode": {
   "interpreter": {
    "hash": "10e257035441dbd5e530fd161ea265e92fc15dc932179a308787324eaedaeb4b"
   }
  }
 },
 "nbformat": 4,
 "nbformat_minor": 2
}
